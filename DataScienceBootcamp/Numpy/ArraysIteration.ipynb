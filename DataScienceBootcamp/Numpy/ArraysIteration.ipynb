{
  "nbformat": 4,
  "nbformat_minor": 0,
  "metadata": {
    "colab": {
      "provenance": [],
      "authorship_tag": "ABX9TyNzPokE90OVu7xywG81IBgh",
      "include_colab_link": true
    },
    "kernelspec": {
      "name": "python3",
      "display_name": "Python 3"
    },
    "language_info": {
      "name": "python"
    }
  },
  "cells": [
    {
      "cell_type": "markdown",
      "metadata": {
        "id": "view-in-github",
        "colab_type": "text"
      },
      "source": [
        "<a href=\"https://colab.research.google.com/github/Wojtek17/Learning/blob/main/DataScienceBootcamp/Numpy/ArraysIteration.ipynb\" target=\"_parent\"><img src=\"https://colab.research.google.com/assets/colab-badge.svg\" alt=\"Open In Colab\"/></a>"
      ]
    },
    {
      "cell_type": "code",
      "execution_count": null,
      "metadata": {
        "id": "CZBBNeQ5w9m1"
      },
      "outputs": [],
      "source": [
        "import numpy as np"
      ]
    },
    {
      "cell_type": "code",
      "source": [
        "A=np.random.randint(low=10,high=101,size=(4,5))"
      ],
      "metadata": {
        "id": "-mwZfC3mxHzi"
      },
      "execution_count": null,
      "outputs": []
    },
    {
      "cell_type": "code",
      "source": [
        "A"
      ],
      "metadata": {
        "colab": {
          "base_uri": "https://localhost:8080/"
        },
        "id": "EyCCDYp4xlpw",
        "outputId": "3cd0af93-f354-4c72-8605-011690c44324"
      },
      "execution_count": null,
      "outputs": [
        {
          "output_type": "execute_result",
          "data": {
            "text/plain": [
              "array([[ 65,  72,  51,  83,  23],\n",
              "       [ 71,  93,  43,  31,  91],\n",
              "       [ 16,  75,  62,  67,  30],\n",
              "       [ 80,  31,  56, 100,  53]])"
            ]
          },
          "metadata": {},
          "execution_count": 7
        }
      ]
    },
    {
      "cell_type": "code",
      "source": [
        "for row in A:\n",
        "  print(row)"
      ],
      "metadata": {
        "colab": {
          "base_uri": "https://localhost:8080/"
        },
        "id": "vs40kZz-xmOZ",
        "outputId": "51fe8ef3-6a71-4b4f-a6d7-ab3d19f4927b"
      },
      "execution_count": null,
      "outputs": [
        {
          "output_type": "stream",
          "name": "stdout",
          "text": [
            "[65 72 51 83 23]\n",
            "[71 93 43 31 91]\n",
            "[16 75 62 67 30]\n",
            "[ 80  31  56 100  53]\n"
          ]
        }
      ]
    },
    {
      "cell_type": "code",
      "source": [
        "for row in A:\n",
        "  print(row[:3])"
      ],
      "metadata": {
        "colab": {
          "base_uri": "https://localhost:8080/"
        },
        "id": "jRo7teeZyNaO",
        "outputId": "95ebf10d-210c-4330-d47c-5ce10867be55"
      },
      "execution_count": null,
      "outputs": [
        {
          "output_type": "stream",
          "name": "stdout",
          "text": [
            "[65 72 51]\n",
            "[71 93 43]\n",
            "[16 75 62]\n",
            "[80 31 56]\n"
          ]
        }
      ]
    },
    {
      "cell_type": "code",
      "source": [
        "for item in A.flat:\n",
        "  print(item)"
      ],
      "metadata": {
        "colab": {
          "base_uri": "https://localhost:8080/"
        },
        "id": "uHR0sEHeygm4",
        "outputId": "f9258791-473d-4336-8f35-28ada5261809"
      },
      "execution_count": null,
      "outputs": [
        {
          "output_type": "stream",
          "name": "stdout",
          "text": [
            "65\n",
            "72\n",
            "51\n",
            "83\n",
            "23\n",
            "71\n",
            "93\n",
            "43\n",
            "31\n",
            "91\n",
            "16\n",
            "75\n",
            "62\n",
            "67\n",
            "30\n",
            "80\n",
            "31\n",
            "56\n",
            "100\n",
            "53\n"
          ]
        }
      ]
    },
    {
      "cell_type": "code",
      "source": [
        "for i in A:\n",
        "  print(i)"
      ],
      "metadata": {
        "colab": {
          "base_uri": "https://localhost:8080/"
        },
        "id": "c_eoLbdOyku6",
        "outputId": "53da4b80-ab44-41a3-f3c2-687631d5caf8"
      },
      "execution_count": null,
      "outputs": [
        {
          "output_type": "stream",
          "name": "stdout",
          "text": [
            "[65 72 51 83 23]\n",
            "[71 93 43 31 91]\n",
            "[16 75 62 67 30]\n",
            "[ 80  31  56 100  53]\n"
          ]
        }
      ]
    },
    {
      "cell_type": "code",
      "source": [
        "A.shape"
      ],
      "metadata": {
        "colab": {
          "base_uri": "https://localhost:8080/"
        },
        "id": "C-vtdlOOyqdM",
        "outputId": "4397f975-ae4f-49a7-ecff-c210700b9313"
      },
      "execution_count": null,
      "outputs": [
        {
          "output_type": "execute_result",
          "data": {
            "text/plain": [
              "(4, 5)"
            ]
          },
          "metadata": {},
          "execution_count": 16
        }
      ]
    },
    {
      "cell_type": "code",
      "source": [
        "A.reshape(5,4)"
      ],
      "metadata": {
        "colab": {
          "base_uri": "https://localhost:8080/"
        },
        "id": "sSLtJVsny46H",
        "outputId": "6a2e3376-f79a-4477-dcd5-7cabdc3bb366"
      },
      "execution_count": null,
      "outputs": [
        {
          "output_type": "execute_result",
          "data": {
            "text/plain": [
              "array([[ 65,  72,  51,  83],\n",
              "       [ 23,  71,  93,  43],\n",
              "       [ 31,  91,  16,  75],\n",
              "       [ 62,  67,  30,  80],\n",
              "       [ 31,  56, 100,  53]])"
            ]
          },
          "metadata": {},
          "execution_count": 17
        }
      ]
    },
    {
      "cell_type": "code",
      "source": [
        "# one dimension\n",
        "A.ravel()"
      ],
      "metadata": {
        "colab": {
          "base_uri": "https://localhost:8080/"
        },
        "id": "BANgvo_yy74n",
        "outputId": "2c371cd9-e90f-48fe-defc-2b835cb2a616"
      },
      "execution_count": null,
      "outputs": [
        {
          "output_type": "execute_result",
          "data": {
            "text/plain": [
              "array([ 65,  72,  51,  83,  23,  71,  93,  43,  31,  91,  16,  75,  62,\n",
              "        67,  30,  80,  31,  56, 100,  53])"
            ]
          },
          "metadata": {},
          "execution_count": 18
        }
      ]
    },
    {
      "cell_type": "code",
      "source": [
        "# transpose\n",
        "A.T"
      ],
      "metadata": {
        "colab": {
          "base_uri": "https://localhost:8080/"
        },
        "id": "WPqlhQwQzDDD",
        "outputId": "6a394481-c2ae-4c08-dd4b-5ebd2c4a7909"
      },
      "execution_count": null,
      "outputs": [
        {
          "output_type": "execute_result",
          "data": {
            "text/plain": [
              "array([[ 65,  71,  16,  80],\n",
              "       [ 72,  93,  75,  31],\n",
              "       [ 51,  43,  62,  56],\n",
              "       [ 83,  31,  67, 100],\n",
              "       [ 23,  91,  30,  53]])"
            ]
          },
          "metadata": {},
          "execution_count": 19
        }
      ]
    },
    {
      "cell_type": "code",
      "source": [
        "A=np.arange(start=-10,stop=10, step=0.5)\n",
        "A.reshape(10,-1)"
      ],
      "metadata": {
        "colab": {
          "base_uri": "https://localhost:8080/"
        },
        "id": "NUNV4Nj7zKSB",
        "outputId": "906190c0-0a7e-4a32-dedc-43cff29234ce"
      },
      "execution_count": null,
      "outputs": [
        {
          "output_type": "execute_result",
          "data": {
            "text/plain": [
              "array([[-10. ,  -9.5,  -9. ,  -8.5],\n",
              "       [ -8. ,  -7.5,  -7. ,  -6.5],\n",
              "       [ -6. ,  -5.5,  -5. ,  -4.5],\n",
              "       [ -4. ,  -3.5,  -3. ,  -2.5],\n",
              "       [ -2. ,  -1.5,  -1. ,  -0.5],\n",
              "       [  0. ,   0.5,   1. ,   1.5],\n",
              "       [  2. ,   2.5,   3. ,   3.5],\n",
              "       [  4. ,   4.5,   5. ,   5.5],\n",
              "       [  6. ,   6.5,   7. ,   7.5],\n",
              "       [  8. ,   8.5,   9. ,   9.5]])"
            ]
          },
          "metadata": {},
          "execution_count": 21
        }
      ]
    },
    {
      "cell_type": "code",
      "source": [
        "# values > 0\n",
        "filter=A>0"
      ],
      "metadata": {
        "id": "Wbzhb9GUzh3V"
      },
      "execution_count": null,
      "outputs": []
    },
    {
      "cell_type": "code",
      "source": [
        "A[filter]"
      ],
      "metadata": {
        "colab": {
          "base_uri": "https://localhost:8080/"
        },
        "id": "XJmWHB73zmgd",
        "outputId": "2ee9eecb-8655-40ba-bcd6-260a8edbcb68"
      },
      "execution_count": null,
      "outputs": [
        {
          "output_type": "execute_result",
          "data": {
            "text/plain": [
              "array([0.5, 1. , 1.5, 2. , 2.5, 3. , 3.5, 4. , 4.5, 5. , 5.5, 6. , 6.5,\n",
              "       7. , 7.5, 8. , 8.5, 9. , 9.5])"
            ]
          },
          "metadata": {},
          "execution_count": 24
        }
      ]
    },
    {
      "cell_type": "code",
      "source": [
        "# two conditions and\n",
        "filter=np.bitwise_and(A>-5, A<5)"
      ],
      "metadata": {
        "id": "vbp42_tzzspq"
      },
      "execution_count": null,
      "outputs": []
    },
    {
      "cell_type": "code",
      "source": [
        "A[filter]"
      ],
      "metadata": {
        "colab": {
          "base_uri": "https://localhost:8080/"
        },
        "id": "IO06OTHbz3RI",
        "outputId": "134699dd-93a7-4304-f990-7054313fcd23"
      },
      "execution_count": null,
      "outputs": [
        {
          "output_type": "execute_result",
          "data": {
            "text/plain": [
              "array([-4.5, -4. , -3.5, -3. , -2.5, -2. , -1.5, -1. , -0.5,  0. ,  0.5,\n",
              "        1. ,  1.5,  2. ,  2.5,  3. ,  3.5,  4. ,  4.5])"
            ]
          },
          "metadata": {},
          "execution_count": 29
        }
      ]
    },
    {
      "cell_type": "code",
      "source": [
        "# two conditions or\n",
        "np.bitwise_or"
      ],
      "metadata": {
        "id": "Iw-KcpGz0Q_w"
      },
      "execution_count": null,
      "outputs": []
    },
    {
      "cell_type": "code",
      "source": [],
      "metadata": {
        "id": "x6YGR3SC0MMd"
      },
      "execution_count": null,
      "outputs": []
    }
  ]
}